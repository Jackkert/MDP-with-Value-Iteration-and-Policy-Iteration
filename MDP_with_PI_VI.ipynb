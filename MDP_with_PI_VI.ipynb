{
 "cells": [
  {
   "cell_type": "markdown",
   "metadata": {},
   "source": [
    "# Reinforcement Learning Overview"
   ]
  },
  {
   "cell_type": "markdown",
   "metadata": {},
   "source": [
    "This notebook implements value iteration and policy iteration."
   ]
  },
  {
   "cell_type": "markdown",
   "metadata": {},
   "source": [
    "## 1. Import libraries"
   ]
  },
  {
   "cell_type": "code",
   "execution_count": 1,
   "metadata": {},
   "outputs": [],
   "source": [
    "import numpy as np\n",
    "import gymnasium as gym\n",
    "import gymnasium.spaces as spaces\n",
    "import time\n",
    "import torch\n",
    "import matplotlib.pyplot as plt"
   ]
  },
  {
   "cell_type": "code",
   "execution_count": 2,
   "metadata": {},
   "outputs": [
    {
     "name": "stdout",
     "output_type": "stream",
     "text": [
      "← ↓ → ↑\n"
     ]
    }
   ],
   "source": [
    "# action mapping for display the final result\n",
    "action_mapping = {\n",
    "    3: '\\u2191', # UP\n",
    "    2: '\\u2192', # RIGHT\n",
    "    1: '\\u2193', # DOWN\n",
    "    0: '\\u2190' # LEFT\n",
    "}\n",
    "print(' '.join([action_mapping[i] for i in range(4)]))"
   ]
  },
  {
   "cell_type": "markdown",
   "metadata": {},
   "source": [
    "## 2. Setup GYM Env for playing & Helper functions"
   ]
  },
  {
   "cell_type": "markdown",
   "metadata": {},
   "source": [
    "We define a function that will take a GYM environment and plays number of games according to given policy."
   ]
  },
  {
   "cell_type": "code",
   "execution_count": 3,
   "metadata": {},
   "outputs": [],
   "source": [
    "def play_episodes(environment, n_episodes, policy, random = False, categorial = False):\n",
    "    \"\"\"\n",
    "    This fucntion plays the given number of episodes given by following a policy or sample randomly from action_space.\n",
    "    \n",
    "    Parameters:\n",
    "        environment: openAI GYM object\n",
    "        n_episodes: number of episodes to run\n",
    "        policy: Policy to follow while playing an episode\n",
    "        random: Flag for taking random actions. if True no policy would be followed and action will be taken randomly\n",
    "        \n",
    "    Return:\n",
    "        wins: Total number of wins playing n_episodes\n",
    "        total_reward: Total reward of n_episodes\n",
    "        avg_reward: Average reward of n_episodes\n",
    "    \n",
    "    \"\"\"\n",
    "    # intialize wins and total reward\n",
    "    wins = 0\n",
    "    total_reward = 0\n",
    "    \n",
    "    # loop over number of episodes to play\n",
    "    for episode in range(n_episodes):\n",
    "        \n",
    "        # flag to check if the game is finished\n",
    "        terminated = False\n",
    "        \n",
    "        # reset the environment every time when playing a new episode\n",
    "        state = environment.reset()[0]\n",
    "\n",
    "        while not terminated:\n",
    "            \n",
    "            # check if the random flag is not true then follow the given policy other wise take random action\n",
    "            if random:\n",
    "                action = environment.action_space.sample()\n",
    "            else:\n",
    "                if categorial:\n",
    "                    action = np.random.choice(len(policy[state]), p=policy[state])\n",
    "                else:\n",
    "                    action = policy[state] \n",
    "\n",
    "            # take the next step\n",
    "            next_state, reward,  terminated, info = environment.step(action)[:-1]\n",
    "            \n",
    "            environment.render()\n",
    "            \n",
    "            # accumalate total reward\n",
    "            total_reward += reward\n",
    "            \n",
    "            # change the state\n",
    "            state = next_state\n",
    "            \n",
    "            # if game is over with positive reward then add 1.0 in wins\n",
    "            if terminated and reward == 1.0:\n",
    "                wins += 1\n",
    "                \n",
    "    # calculate average reward\n",
    "    average_reward = total_reward / n_episodes\n",
    "    \n",
    "    return wins, total_reward, average_reward\n",
    "            "
   ]
  },
  {
   "cell_type": "code",
   "execution_count": 52,
   "metadata": {},
   "outputs": [],
   "source": [
    "def one_step_lookahead_categorial(env, state, Q , policy, discount_factor = 0.99):\n",
    "    \"\"\"\n",
    "    Helper function to  calculate state-value function\n",
    "    \n",
    "    Arguments:\n",
    "        env: openAI GYM environment object\n",
    "        state: state to consider\n",
    "        Q: Estimated Value for each state-action pair. Table of shape N x A\n",
    "        discount_factor: MDP discount factor\n",
    "        \n",
    "    Return:\n",
    "        action_values: Expected value of each action in a state. Vector of length nA\n",
    "    \"\"\"\n",
    "    \n",
    "    # initialize vector of action values\n",
    "    action_values = np.zeros(env.action_space.n) \n",
    "    # loop over the actions we can take in an environment \n",
    "    for action in range(env.action_space.n):\n",
    "        # loop over the P_sa distribution.\n",
    "        for probablity, next_state, reward, info in env.P[state][action]:\n",
    "             #if we are in state s and take action a then sum over all the possible states we can land into.\n",
    "            action_values[action] += probablity * (reward + (discount_factor * policy[next_state] @ Q[next_state]))\n",
    "            \n",
    "    return action_values"
   ]
  },
  {
   "cell_type": "code",
   "execution_count": 43,
   "metadata": {},
   "outputs": [],
   "source": [
    "def update_policy_categorial(env, policy, Q, discount_factor, temperature, improvement_operator = \"argmax\"):\n",
    "    \n",
    "    \"\"\"\n",
    "    Helper function to update a given policy based on given value function.\n",
    "    \n",
    "    Arguments:\n",
    "        env: openAI GYM environment object.\n",
    "        policy: categorial policy to update.\n",
    "        Q: Estimated Value for each state-action pair. Table of shape N x S.\n",
    "        discount_factor: MDP discount factor.\n",
    "    Return:\n",
    "        policy: Updated policy based on the given state-action value function 'Q'.\n",
    "    \"\"\"\n",
    "    if improvement_operator == \"None\":\n",
    "        return policy\n",
    "    \n",
    "    for state in range(env.observation_space.n):\n",
    "        # for a given state compute state-action value.\n",
    "        action_values = one_step_lookahead_categorial(env, state, Q, policy, discount_factor)\n",
    "        # choose the action which maximizez the state-action value.\n",
    "        if improvement_operator == \"argmax\":\n",
    "            best_action = np.argmax(action_values)\n",
    "            one_hot_policy = np.zeros(env.action_space.n)\n",
    "            one_hot_policy[best_action] = 1\n",
    "            policy[state] = one_hot_policy\n",
    "        elif improvement_operator == \"policy-regularized_softmax\":\n",
    "            policy[state] = policy_regularized_softmax(policy[state], temperature, action_values)\n",
    "        \n",
    "    return policy\n",
    "    "
   ]
  },
  {
   "cell_type": "code",
   "execution_count": 44,
   "metadata": {},
   "outputs": [],
   "source": [
    "def policy_regularized_softmax(policy, temperature, Q_value):\n",
    "    \"\"\"\n",
    "    Helper function for the policy-regularized softmax function.\n",
    "\n",
    "    Arguments:\n",
    "        policy: current evaluated policy\n",
    "        temperature: temperature hyperparameter \n",
    "        Q_value: current Q value function\n",
    "    Return:\n",
    "        action_dist: Improved action probability distribution for the new policy.\n",
    "    \"\"\"\n",
    "    # convert to torch tensor\n",
    "    policy = torch.from_numpy(policy)\n",
    "    Q_value = torch.from_numpy(Q_value)\n",
    "    action_dist = torch.nn.functional.softmax(torch.log(policy) + temperature * Q_value, dim = 0)\n",
    "    return action_dist "
   ]
  },
  {
   "cell_type": "code",
   "execution_count": 31,
   "metadata": {},
   "outputs": [],
   "source": [
    "def get_initial_state_value(Q, policy):\n",
    "    \"\"\"\n",
    "    Calculate the initial state value V(s_0) based on\n",
    "    E_{a~\\pi(s0)} Q(s0, \\pi(s0))\n",
    "    \"\"\"\n",
    "    V_init = 0\n",
    "    for i, action_prob in enumerate(policy[0]): # calculate V value in initial state\n",
    "        V_init += action_prob*Q[0][i]\n",
    "    return V_init"
   ]
  },
  {
   "cell_type": "markdown",
   "metadata": {},
   "source": [
    "## 3. Solve for Value Iteration."
   ]
  },
  {
   "cell_type": "markdown",
   "metadata": {},
   "source": [
    "![](nb_images/value_iter.png)"
   ]
  },
  {
   "cell_type": "code",
   "execution_count": 8,
   "metadata": {},
   "outputs": [],
   "source": [
    "def value_iteration(env, improvement_operator = \"argmax\", value_improvement_operator = \"argmax\", discount_factor = 0.999, max_iteration = 1000):\n",
    "    \"\"\"\n",
    "    Algorithm to solve MPD.\n",
    "    \n",
    "    Arguments:\n",
    "        env: openAI GYM environment object.\n",
    "        discount_factor: MDP discount factor.\n",
    "        max_iteration: Maximum No.  of iterations to run.\n",
    "        \n",
    "    Return:\n",
    "        V: Optimal state-Value function. Vector of lenth nS.\n",
    "        optimal_policy: Optimal policy. Vector of length nS.\n",
    "    \n",
    "    \"\"\"\n",
    "    # intialize value fucntion\n",
    "    Q = np.zeros((env.observation_space.n,env.action_space.n))\n",
    "    Q_copied = np.zeros((env.observation_space.n,env.action_space.n)) # TODO: double improvement\n",
    "    # intialize a random implicit categorial policy\n",
    "    random_actions = np.random.randint(0, 1000, (env.observation_space.n, env.action_space.n))\n",
    "    policy = random_actions/random_actions.sum(axis = 1, keepdims = True)\n",
    "\n",
    "    policy_prev = np.copy(policy)\n",
    "    temperature = 1.0    \n",
    "\n",
    "    # TODO: make categorical, check how to resuse policy iteration functions\n",
    "    # iterate over max_iterations\n",
    "    for i in range(max_iteration):\n",
    "        \n",
    "        #  keep track of change with previous value function\n",
    "        prev_Q = np.copy(Q) \n",
    "    \n",
    "        # loop over all states\n",
    "        for state in range(env.observation_space.n):\n",
    "            # copied_policy = np.copy(policy) \n",
    "            # improve copied policy with second improvement operator\n",
    "            # copied_policy = update_policy_categorial(env, copied_policy, Q_copied, discount_factor, temperature, improvement_operator=value_improvement_operator)\n",
    "            # Asynchronously update the state-action value\n",
    "            #action_values = one_step_lookahead(env, state, V, discount_factor)\n",
    "            # Synchronously update the state-action value\n",
    "            # TODO: change this to policy improvement step, value update step with new policy, repeat.\n",
    "            policy = update_policy_categorial(env, policy, Q, discount_factor, temperature, improvement_operator=improvement_operator)\n",
    "            # action_values = one_step_lookahead(env, state, prev_v, discount_factor)  \n",
    "            action_values = one_step_lookahead_categorial(env, state, Q , discount_factor)\n",
    "            # for action, action_prob in enumerate(policy[state]): # evaluate policy value over all actions\n",
    "            #     for probablity, next_state, reward, info in env.P[state][action]:\n",
    "            #         Q[state][action] += probablity * (reward + (discount_factor * np.max(Q[next_state])))\n",
    "                    \n",
    "            # select best action to perform based on highest state-action value\n",
    "            # best_action_value = np.max(action_values)\n",
    "            \n",
    "            # update the current state-value fucntion\n",
    "            Q[state] = action_values\n",
    "            \n",
    "        # # if policy not changed over 10 iterations it converged.\n",
    "        # if i % 10 == 0:\n",
    "        #     # if values of 'V' not changing after one iteration\n",
    "        #     if (np.all(np.isclose(policy, prev_v))):\n",
    "        #         print('Value converged at iteration %d' %(i+1))\n",
    "        #         break\n",
    "\n",
    "        if i % 10 == 0:\n",
    "                if (np.all(np.equal(policy, policy_prev))):\n",
    "                    print('policy converged at iteration %d' %(i+1))\n",
    "                    break\n",
    "                policy_prev = np.copy(policy)\n",
    "    # intialize optimal policy\n",
    "    # optimal_policy = np.zeros(env.observation_space.n, dtype = 'int8')\n",
    "    \n",
    "    # update the optimal polciy according to optimal value function 'V'\n",
    "    # optimal_policy = update_policy(env, optimal_policy, V, discount_factor)\n",
    "    \n",
    "    return Q, policy"
   ]
  },
  {
   "cell_type": "markdown",
   "metadata": {},
   "source": [
    "## Test the Algorithim"
   ]
  },
  {
   "cell_type": "code",
   "execution_count": 45,
   "metadata": {},
   "outputs": [
    {
     "ename": "ValueError",
     "evalue": "setting an array element with a sequence.",
     "output_type": "error",
     "traceback": [
      "\u001b[0;31m---------------------------------------------------------------------------\u001b[0m",
      "\u001b[0;31mTypeError\u001b[0m                                 Traceback (most recent call last)",
      "\u001b[0;31mTypeError\u001b[0m: only length-1 arrays can be converted to Python scalars",
      "\nThe above exception was the direct cause of the following exception:\n",
      "\u001b[0;31mValueError\u001b[0m                                Traceback (most recent call last)",
      "Cell \u001b[0;32mIn[45], line 3\u001b[0m\n\u001b[1;32m      1\u001b[0m environment \u001b[38;5;241m=\u001b[39m gym\u001b[38;5;241m.\u001b[39mmake(\u001b[38;5;124m'\u001b[39m\u001b[38;5;124mFrozenLake-v1\u001b[39m\u001b[38;5;124m'\u001b[39m, is_slippery \u001b[38;5;241m=\u001b[39m \u001b[38;5;28;01mFalse\u001b[39;00m)\u001b[38;5;66;03m#, render_mode = \"human\")\u001b[39;00m\n\u001b[1;32m      2\u001b[0m tic \u001b[38;5;241m=\u001b[39m time\u001b[38;5;241m.\u001b[39mtime()\n\u001b[0;32m----> 3\u001b[0m opt_Q, opt_Policy \u001b[38;5;241m=\u001b[39m \u001b[43mvalue_iteration\u001b[49m\u001b[43m(\u001b[49m\u001b[43menvironment\u001b[49m\u001b[38;5;241;43m.\u001b[39;49m\u001b[43menv\u001b[49m\u001b[43m,\u001b[49m\u001b[43m \u001b[49m\u001b[43mmax_iteration\u001b[49m\u001b[43m \u001b[49m\u001b[38;5;241;43m=\u001b[39;49m\u001b[43m \u001b[49m\u001b[38;5;241;43m1000\u001b[39;49m\u001b[43m)\u001b[49m\n\u001b[1;32m      4\u001b[0m toc \u001b[38;5;241m=\u001b[39m time\u001b[38;5;241m.\u001b[39mtime()\n\u001b[1;32m      5\u001b[0m elapsed_time \u001b[38;5;241m=\u001b[39m (toc \u001b[38;5;241m-\u001b[39m tic) \u001b[38;5;241m*\u001b[39m \u001b[38;5;241m1000\u001b[39m\n",
      "Cell \u001b[0;32mIn[8], line 41\u001b[0m, in \u001b[0;36mvalue_iteration\u001b[0;34m(env, improvement_operator, value_improvement_operator, discount_factor, max_iteration)\u001b[0m\n\u001b[1;32m     32\u001b[0m \u001b[38;5;66;03m# loop over all states\u001b[39;00m\n\u001b[1;32m     33\u001b[0m \u001b[38;5;28;01mfor\u001b[39;00m state \u001b[38;5;129;01min\u001b[39;00m \u001b[38;5;28mrange\u001b[39m(env\u001b[38;5;241m.\u001b[39mobservation_space\u001b[38;5;241m.\u001b[39mn):\n\u001b[1;32m     34\u001b[0m     \u001b[38;5;66;03m# copied_policy = np.copy(policy) \u001b[39;00m\n\u001b[1;32m     35\u001b[0m     \u001b[38;5;66;03m# improve copied policy with second improvement operator\u001b[39;00m\n\u001b[0;32m   (...)\u001b[0m\n\u001b[1;32m     39\u001b[0m     \u001b[38;5;66;03m# Synchronously update the state-action value\u001b[39;00m\n\u001b[1;32m     40\u001b[0m     \u001b[38;5;66;03m# TODO: change this to policy improvement step, value update step with new policy, repeat.\u001b[39;00m\n\u001b[0;32m---> 41\u001b[0m     policy \u001b[38;5;241m=\u001b[39m \u001b[43mupdate_policy_categorial\u001b[49m\u001b[43m(\u001b[49m\u001b[43menv\u001b[49m\u001b[43m,\u001b[49m\u001b[43m \u001b[49m\u001b[43mpolicy\u001b[49m\u001b[43m,\u001b[49m\u001b[43m \u001b[49m\u001b[43mQ\u001b[49m\u001b[43m,\u001b[49m\u001b[43m \u001b[49m\u001b[43mdiscount_factor\u001b[49m\u001b[43m,\u001b[49m\u001b[43m \u001b[49m\u001b[43mtemperature\u001b[49m\u001b[43m,\u001b[49m\u001b[43m \u001b[49m\u001b[43mimprovement_operator\u001b[49m\u001b[38;5;241;43m=\u001b[39;49m\u001b[43mimprovement_operator\u001b[49m\u001b[43m)\u001b[49m\n\u001b[1;32m     42\u001b[0m     \u001b[38;5;66;03m# action_values = one_step_lookahead(env, state, prev_v, discount_factor)  \u001b[39;00m\n\u001b[1;32m     43\u001b[0m     action_values \u001b[38;5;241m=\u001b[39m one_step_lookahead_categorial(env, state, Q , discount_factor)\n",
      "Cell \u001b[0;32mIn[43], line 19\u001b[0m, in \u001b[0;36mupdate_policy_categorial\u001b[0;34m(env, policy, Q, discount_factor, temperature, improvement_operator)\u001b[0m\n\u001b[1;32m     15\u001b[0m     \u001b[38;5;28;01mreturn\u001b[39;00m policy\n\u001b[1;32m     17\u001b[0m \u001b[38;5;28;01mfor\u001b[39;00m state \u001b[38;5;129;01min\u001b[39;00m \u001b[38;5;28mrange\u001b[39m(env\u001b[38;5;241m.\u001b[39mobservation_space\u001b[38;5;241m.\u001b[39mn):\n\u001b[1;32m     18\u001b[0m     \u001b[38;5;66;03m# for a given state compute state-action value.\u001b[39;00m\n\u001b[0;32m---> 19\u001b[0m     action_values \u001b[38;5;241m=\u001b[39m \u001b[43mone_step_lookahead_categorial\u001b[49m\u001b[43m(\u001b[49m\u001b[43menv\u001b[49m\u001b[43m,\u001b[49m\u001b[43m \u001b[49m\u001b[43mstate\u001b[49m\u001b[43m,\u001b[49m\u001b[43m \u001b[49m\u001b[43mQ\u001b[49m\u001b[43m,\u001b[49m\u001b[43m \u001b[49m\u001b[43mpolicy\u001b[49m\u001b[43m,\u001b[49m\u001b[43m \u001b[49m\u001b[43mdiscount_factor\u001b[49m\u001b[43m)\u001b[49m\n\u001b[1;32m     20\u001b[0m     \u001b[38;5;66;03m# choose the action which maximizez the state-action value.\u001b[39;00m\n\u001b[1;32m     21\u001b[0m     \u001b[38;5;28;01mif\u001b[39;00m improvement_operator \u001b[38;5;241m==\u001b[39m \u001b[38;5;124m\"\u001b[39m\u001b[38;5;124margmax\u001b[39m\u001b[38;5;124m\"\u001b[39m:\n",
      "Cell \u001b[0;32mIn[42], line 22\u001b[0m, in \u001b[0;36mone_step_lookahead_categorial\u001b[0;34m(env, state, Q, policy, discount_factor)\u001b[0m\n\u001b[1;32m     18\u001b[0m \u001b[38;5;28;01mfor\u001b[39;00m action \u001b[38;5;129;01min\u001b[39;00m \u001b[38;5;28mrange\u001b[39m(env\u001b[38;5;241m.\u001b[39maction_space\u001b[38;5;241m.\u001b[39mn):\n\u001b[1;32m     19\u001b[0m     \u001b[38;5;66;03m# loop over the P_sa distribution.\u001b[39;00m\n\u001b[1;32m     20\u001b[0m     \u001b[38;5;28;01mfor\u001b[39;00m probablity, next_state, reward, info \u001b[38;5;129;01min\u001b[39;00m env\u001b[38;5;241m.\u001b[39mP[state][action]:\n\u001b[1;32m     21\u001b[0m          \u001b[38;5;66;03m#if we are in state s and take action a then sum over all the possible states we can land into.\u001b[39;00m\n\u001b[0;32m---> 22\u001b[0m         \u001b[43maction_values\u001b[49m\u001b[43m[\u001b[49m\u001b[43maction\u001b[49m\u001b[43m]\u001b[49m \u001b[38;5;241m+\u001b[39m\u001b[38;5;241m=\u001b[39m probablity \u001b[38;5;241m*\u001b[39m (reward \u001b[38;5;241m+\u001b[39m (discount_factor \u001b[38;5;241m*\u001b[39m policy \u001b[38;5;241m@\u001b[39m Q[next_state]))\n\u001b[1;32m     24\u001b[0m \u001b[38;5;28;01mreturn\u001b[39;00m action_values\n",
      "\u001b[0;31mValueError\u001b[0m: setting an array element with a sequence."
     ]
    }
   ],
   "source": [
    "environment = gym.make('FrozenLake-v1', is_slippery = False)#, render_mode = \"human\")\n",
    "tic = time.time()\n",
    "opt_Q, opt_Policy = value_iteration(environment.env, max_iteration = 1000)\n",
    "toc = time.time()\n",
    "elapsed_time = (toc - tic) * 1000\n",
    "print (f\"Time to converge: {elapsed_time: 0.3} ms\")\n",
    "print('Optimal Value function: ')\n",
    "print(opt_V.reshape((environment.observation_space.n, environment.action_space.n)))\n",
    "print(opt_Policy)\n",
    "print(\"Most likely actions taken by policy: \")\n",
    "arrow_visualization_VI = np.array([action_mapping[(np.argmax(action))] for action in opt_Policy])\n",
    "arrow_visualization_VI = arrow_visualization_VI.reshape((4,4))\n",
    "print(arrow_visualization_VI)"
   ]
  },
  {
   "cell_type": "code",
   "execution_count": 125,
   "metadata": {},
   "outputs": [],
   "source": [
    "n_episode = 10\n",
    "wins, total_reward, avg_reward = play_episodes(environment, n_episode, opt_Policy, random = False, categorial = True)\n",
    "# wins, total_reward, avg_reward = play_episodes(environment2, n_episode, opt_policy2, random = False, categorial = True)"
   ]
  },
  {
   "cell_type": "code",
   "execution_count": 126,
   "metadata": {},
   "outputs": [
    {
     "name": "stdout",
     "output_type": "stream",
     "text": [
      "Total wins with value iteration: 10\n",
      "Average rewards with value iteration: 1.0\n"
     ]
    }
   ],
   "source": [
    "print(f'Total wins with value iteration: {wins}')\n",
    "print(f\"Average rewards with value iteration: {avg_reward}\")"
   ]
  },
  {
   "cell_type": "markdown",
   "metadata": {},
   "source": [
    "## 4. Solve for Policy Iteration"
   ]
  },
  {
   "cell_type": "markdown",
   "metadata": {},
   "source": [
    "# Helper functions"
   ]
  },
  {
   "cell_type": "code",
   "execution_count": 55,
   "metadata": {},
   "outputs": [],
   "source": [
    "def policy_eval(env, policy, Q, discount_factor): # actually just one step in the evaluation\n",
    "    \"\"\"\n",
    "    Helper function to evaluate a policy.\n",
    "    \n",
    "    Arguments:\n",
    "        env: openAI GYM environment object.\n",
    "        policy: policy to evaluate.\n",
    "        Q: Estimated Value for each state-action pair. Table of shape N x A\n",
    "        discount_factor: MDP discount factor.\n",
    "    Return:\n",
    "        policy_value: Estimated value of each state-action pair following a given policy and state-action value 'Q'. \n",
    "        \n",
    "    \"\"\"\n",
    "    policy_value = np.zeros((env.observation_space.n, env.action_space.n))\n",
    "    for state in range(env.observation_space.n):\n",
    "        for action, action_prob in enumerate(policy[state]): # evaluate policy value over all actions\n",
    "            for probablity, next_state, reward, info in env.P[state][action]:\n",
    "                policy_value[state][action] += probablity * (reward + (discount_factor * policy[next_state] @ Q[next_state]))\n",
    "    \n",
    "    return policy_value"
   ]
  },
  {
   "cell_type": "markdown",
   "metadata": {},
   "source": [
    "# Update policy functions"
   ]
  },
  {
   "cell_type": "markdown",
   "metadata": {},
   "source": [
    "# Main loop"
   ]
  },
  {
   "cell_type": "code",
   "execution_count": 192,
   "metadata": {},
   "outputs": [],
   "source": [
    "def policy_iteration(env, improvement_operator = \"argmax\", value_improvement_operator = \"argmax\", discount_factor = 0.999, max_iteration = 1000):\n",
    "    \"\"\"\n",
    "    Algorithm to solve MPD.\n",
    "    \n",
    "    Arguments:\n",
    "        env: openAI GYM environment object.\n",
    "        discount_factor: MDP discount factor.\n",
    "        max_iteration: Maximum No.  of iterations to run.\n",
    "        \n",
    "    Return:\n",
    "        Q: Optimal state-action value function. Table of N x A\n",
    "        new_policy: Optimal policy. Table of N x A\n",
    "    \n",
    "    \"\"\"\n",
    "    # intialize the state-Value function\n",
    "    Q = np.zeros((env.observation_space.n,env.action_space.n))\n",
    "    Q_copied = np.zeros((env.observation_space.n,env.action_space.n))\n",
    "    # intialize a random implicit categorial policy\n",
    "    random_actions = np.random.randint(0, 1000, (env.observation_space.n, env.action_space.n))\n",
    "    policy = random_actions/random_actions.sum(axis = 1, keepdims = True)\n",
    "\n",
    "    policy_prev = np.copy(policy)\n",
    "    Q_prev = np.copy(Q)\n",
    "    Q_copied_prev = np.copy(Q_copied)\n",
    "    temperature = 1.0\n",
    "    max_it_eval = 1\n",
    "    V_init_states = []\n",
    "    V_init = get_initial_state_value(Q, policy)\n",
    "    V_init_states.append(V_init)\n",
    "    \n",
    "    for i in range(max_iteration):\n",
    "        # copy the policy\n",
    "        copied_policy = np.copy(policy)\n",
    "        # improve copied policy with second improvement operator\n",
    "        copied_policy = update_policy_categorial(env, copied_policy, Q_copied, discount_factor, temperature, improvement_operator=value_improvement_operator)\n",
    "        # Evaluate copied policy \n",
    "        for j in range(max_it_eval):\n",
    "            Q = policy_eval(env, policy, Q, discount_factor)\n",
    "            # if i % 10 == 0:\n",
    "            #     if (np.all(np.isclose(Q, Q_prev))):\n",
    "            #         print('Policy evaluation converged at iteration %d' %(j+1))\n",
    "            #         break\n",
    "            #     Q_prev = np.copy(Q)\n",
    "\n",
    "        for k in range(max_it_eval):\n",
    "            Q_copied = policy_eval(env, copied_policy, Q_copied, discount_factor) \n",
    "            # if i % 10 == 0:\n",
    "            #     if (np.all(np.isclose(Q_copied, Q_copied_prev))):\n",
    "            #         print('Copy policy evaluation converged at iteration %d' %(k+1))\n",
    "            #         break\n",
    "            #     Q_copied_prev = np.copy(Q_copied)\n",
    "\n",
    "        \n",
    "        # improve the main policy with Q_copied\n",
    "        policy = update_policy_categorial(env, policy, Q_copied, discount_factor, temperature, improvement_operator=improvement_operator)\n",
    "\n",
    "        # save V values for initial state        \n",
    "        V_inital_state = get_initial_state_value(Q, policy)\n",
    "        V_init_states.append(V_inital_state)\n",
    "        # if Q table has not changed over 10 iterations it converged.\n",
    "        if i % 10 == 0:\n",
    "            if (np.all(np.isclose(Q, Q_prev))):\n",
    "                print('Q table converged at iteration %d' %(i+1))\n",
    "                break\n",
    "            Q_prev = np.copy(Q)\n",
    "        # if i % 10 == 0:\n",
    "        #     if (np.all(np.isclose(policy, policy_prev))):\n",
    "        #         print('policy converged at iteration %d' %(i+1))\n",
    "        #         break\n",
    "        #     policy_prev = np.copy(policy)\n",
    "        \n",
    "    return Q, policy, V_init_states"
   ]
  },
  {
   "cell_type": "markdown",
   "metadata": {},
   "source": [
    "## Test Policy Iteration"
   ]
  },
  {
   "cell_type": "code",
   "execution_count": 194,
   "metadata": {},
   "outputs": [
    {
     "name": "stdout",
     "output_type": "stream",
     "text": [
      "Q table converged at iteration 21\n",
      "Time to converge:  45.1 ms\n",
      "Optimal Value function: \n",
      "[[0.99940015 0.9995001  0.9995001  0.99940015]\n",
      " [0.99940015 0.         0.99960006 0.9995001 ]\n",
      " [0.9995001  0.99970003 0.9995001  0.99960006]\n",
      " [0.99960006 0.         0.9995001  0.9995001 ]\n",
      " [0.9995001  0.99960006 0.         0.99940015]\n",
      " [0.         0.         0.         0.        ]\n",
      " [0.         0.99980001 0.         0.99960006]\n",
      " [0.         0.         0.         0.        ]\n",
      " [0.99960006 0.         0.99970003 0.9995001 ]\n",
      " [0.99960006 0.99980001 0.99980001 0.        ]\n",
      " [0.99970003 0.9999     0.         0.99970003]\n",
      " [0.         0.         0.         0.        ]\n",
      " [0.         0.         0.         0.        ]\n",
      " [0.         0.99980001 0.9999     0.99970003]\n",
      " [0.99980001 0.9999     1.         0.99980001]\n",
      " [0.         0.         0.         0.        ]]\n",
      "Final Policy: \n",
      "[[0. 1. 0. 0.]\n",
      " [0. 0. 1. 0.]\n",
      " [0. 1. 0. 0.]\n",
      " [1. 0. 0. 0.]\n",
      " [0. 1. 0. 0.]\n",
      " [1. 0. 0. 0.]\n",
      " [0. 1. 0. 0.]\n",
      " [1. 0. 0. 0.]\n",
      " [0. 0. 1. 0.]\n",
      " [0. 1. 0. 0.]\n",
      " [0. 1. 0. 0.]\n",
      " [1. 0. 0. 0.]\n",
      " [1. 0. 0. 0.]\n",
      " [0. 0. 1. 0.]\n",
      " [0. 0. 1. 0.]\n",
      " [1. 0. 0. 0.]]\n",
      "Most likely actions taken by policy: \n",
      "[['↓' '→' '↓' '←']\n",
      " ['↓' '←' '↓' '←']\n",
      " ['→' '↓' '↓' '←']\n",
      " ['←' '→' '→' '←']]\n"
     ]
    }
   ],
   "source": [
    "environment2 = gym.make('FrozenLake-v1', is_slippery = False) #, render_mode = \"human\")\n",
    "tic = time.time()\n",
    "# options for improvement operator: \"argmax\", \"policy-regularized_softmax\" or \"None\"\n",
    "opt_V2, opt_policy2, V_init_states2 = policy_iteration(environment2.env, improvement_operator=\"argmax\", value_improvement_operator = \"None\", discount_factor = 0.9999, max_iteration = 1000)\n",
    "toc = time.time()\n",
    "elapsed_time = (toc - tic) * 1000\n",
    "print (f\"Time to converge: {elapsed_time: 0.3} ms\")\n",
    "print('Optimal Value function: ')\n",
    "print(opt_V2.reshape((environment2.observation_space.n, environment2.action_space.n)))\n",
    "print('Final Policy: ')\n",
    "print(np.round(opt_policy2,2))\n",
    "# Display the most likely policy in discrete action\n",
    "print(\"Most likely actions taken by policy: \")\n",
    "arrow_visualization = np.array([action_mapping[(np.argmax(action))] for action in opt_policy2])\n",
    "arrow_visualization = arrow_visualization.reshape((4,4))\n",
    "print(arrow_visualization)\n",
    "# print(' '.join(arrow_visualization))"
   ]
  },
  {
   "cell_type": "code",
   "execution_count": 195,
   "metadata": {},
   "outputs": [],
   "source": [
    "n_episode = 10\n",
    "wins, total_reward, avg_reward = play_episodes(environment2, n_episode, opt_policy2, random = False, categorial = True)"
   ]
  },
  {
   "cell_type": "code",
   "execution_count": 196,
   "metadata": {},
   "outputs": [
    {
     "name": "stdout",
     "output_type": "stream",
     "text": [
      "Total wins with Policy iteration: 10\n",
      "Average rewards with Policy iteration: 1.0\n"
     ]
    }
   ],
   "source": [
    "print(f'Total wins with Policy iteration: {wins}')\n",
    "print(f\"Average rewards with Policy iteration: {avg_reward}\")"
   ]
  },
  {
   "cell_type": "markdown",
   "metadata": {},
   "source": [
    "## Comparison between methods"
   ]
  },
  {
   "cell_type": "code",
   "execution_count": 197,
   "metadata": {},
   "outputs": [
    {
     "name": "stdout",
     "output_type": "stream",
     "text": [
      "Q table converged at iteration 451\n",
      "Time to converge argmax-none:  1.17e+03 ms\n",
      "Q table converged at iteration 571\n",
      "Time to converge softmax-argmax:  2.23e+03 ms\n",
      "Q table converged at iteration 651\n",
      "Time to converge softmax-softmax:  2.99e+03 ms\n"
     ]
    }
   ],
   "source": [
    "environment_comparison = gym.make('FrozenLake-v1') #, render_mode = \"human\")\n",
    "\n",
    "discount_fac = 0.9999999999\n",
    "\n",
    "tic = time.time()\n",
    "# options for improvement operator: \"argmax\", \"policy-regularized_softmax\" or \"None\"\n",
    "opt_Q_argmax_none, opt_policy_argmax_none, initial_policy_values_argmax_none = policy_iteration(environment_comparison.env, improvement_operator=\"argmax\", value_improvement_operator = \"None\", discount_factor = discount_fac, max_iteration = 1000)\n",
    "toc = time.time()\n",
    "argmax_none_elapsed_time = (toc - tic) * 1000\n",
    "print(f\"Time to converge argmax-none: {argmax_none_elapsed_time: 0.3} ms\")\n",
    "\n",
    "tic = time.time()\n",
    "# options for improvement operator: \"argmax\", \"policy-regularized_softmax\" or \"None\"\n",
    "opt_Q_softmax_argmax, opt_policy_softmax_argmax, initial_policy_values_softmax_argmax = policy_iteration(environment_comparison.env, improvement_operator=\"policy-regularized_softmax\", value_improvement_operator = \"argmax\", discount_factor = discount_fac, max_iteration = 1000)\n",
    "toc = time.time()\n",
    "softmax_argmax_elapsed_time = (toc - tic) * 1000\n",
    "print(f\"Time to converge softmax-argmax: {softmax_argmax_elapsed_time: 0.3} ms\")\n",
    "\n",
    "tic = time.time()\n",
    "# options for improvement operator: \"argmax\", \"policy-regularized_softmax\" or \"None\"\n",
    "opt_Q_softmax_softmax, opt_policy_softmax_softmax, initial_policy_values_softmax_softmax = policy_iteration(environment_comparison.env, improvement_operator=\"policy-regularized_softmax\", value_improvement_operator = \"policy-regularized_softmax\", discount_factor = discount_fac, max_iteration = 1000)\n",
    "toc = time.time()\n",
    "softmax_softmax_elapsed_time = (toc - tic) * 1000\n",
    "print(f\"Time to converge softmax-softmax: {softmax_softmax_elapsed_time: 0.3} ms\")\n"
   ]
  },
  {
   "cell_type": "code",
   "execution_count": 198,
   "metadata": {},
   "outputs": [],
   "source": [
    "# opt_Q_softmax_softmax"
   ]
  },
  {
   "cell_type": "code",
   "execution_count": 199,
   "metadata": {},
   "outputs": [],
   "source": [
    "# print(np.round(opt_policy_softmax_argmax,3))"
   ]
  },
  {
   "cell_type": "code",
   "execution_count": 200,
   "metadata": {},
   "outputs": [],
   "source": [
    "comparison_episodes = 100\n",
    "policies = [opt_policy_argmax_none, opt_policy_softmax_argmax, opt_policy_softmax_softmax]\n",
    "elapsed_times = [argmax_none_elapsed_time, softmax_argmax_elapsed_time, softmax_softmax_elapsed_time]\n",
    "\n",
    "wins_per_policy = []\n",
    "total_rewards_per_policy = []\n",
    "avg_rewards_per_policy = []\n",
    "\n",
    "for policy in policies:\n",
    "    n_wins, total_reward, avg_reward = play_episodes(environment_comparison, comparison_episodes, policy, random = False, categorial = True)\n",
    "    wins_per_policy.append(n_wins)\n",
    "    total_rewards_per_policy.append(total_reward)\n",
    "    avg_rewards_per_policy.append(avg_reward)"
   ]
  },
  {
   "cell_type": "code",
   "execution_count": 201,
   "metadata": {},
   "outputs": [
    {
     "name": "stderr",
     "output_type": "stream",
     "text": [
      "No artists with labels found to put in legend.  Note that artists whose label start with an underscore are ignored when legend() is called with no argument.\n",
      "No artists with labels found to put in legend.  Note that artists whose label start with an underscore are ignored when legend() is called with no argument.\n"
     ]
    },
    {
     "data": {
      "image/png": "[encoded data removed]",
      "text/plain": [
       "<Figure size 1500x500 with 2 Axes>"
      ]
     },
     "metadata": {},
     "output_type": "display_data"
    }
   ],
   "source": [
    "x = np.arange(len(elapsed_times))\n",
    "width = 0.5  # Width of the bars\n",
    "\n",
    "# Creating the bar plot\n",
    "fig, ax = plt.subplots(1,2, figsize=(15, 5))\n",
    "bar = ax[0].bar(\"Argmax-None\", elapsed_times[0], width)\n",
    "bar = ax[0].bar(\"Softmax-None\", elapsed_times[1], width)\n",
    "bar = ax[0].bar(\"Softmax-Softmax\", elapsed_times[2], width)\n",
    "\n",
    "# Adding labels, title, and ticksax.set_xlabel('Elapsed Time')\n",
    "ax[0].set_ylabel('Time in ms')\n",
    "ax[0].set_title('Time to converge')\n",
    "ax[0].set_xticks(x)\n",
    "ax[0].legend()\n",
    "\n",
    "bar = ax[1].bar(\"Argmax-None\", wins_per_policy[0], width)\n",
    "bar = ax[1].bar(\"Softmax-None\", wins_per_policy[1], width)\n",
    "bar = ax[1].bar(\"Softmax-Softmax\", wins_per_policy[2], width)\n",
    "\n",
    "ax[1].set_ylabel('Number of wins')\n",
    "ax[1].set_title('Number of wins out of 100')\n",
    "ax[1].set_xticks(x)\n",
    "ax[1].legend()\n",
    "# Showing the plot\n",
    "plt.show()"
   ]
  },
  {
   "cell_type": "markdown",
   "metadata": {},
   "source": [
    "### Plot policy intial value"
   ]
  },
  {
   "cell_type": "code",
   "execution_count": 202,
   "metadata": {},
   "outputs": [
    {
     "name": "stderr",
     "output_type": "stream",
     "text": [
      "No artists with labels found to put in legend.  Note that artists whose label start with an underscore are ignored when legend() is called with no argument.\n"
     ]
    },
    {
     "data": {
      "image/png": "[encoded data removed]",
      "text/plain": [
       "<Figure size 1500x500 with 3 Axes>"
      ]
     },
     "metadata": {},
     "output_type": "display_data"
    }
   ],
   "source": [
    "fig, ax = plt.subplots(1,3, figsize=(15, 5))\n",
    "ax[0].plot(np.array(initial_policy_values_argmax_none))\n",
    "ax[1].plot(np.array(initial_policy_values_softmax_argmax))\n",
    "ax[2].plot(np.array(initial_policy_values_softmax_softmax))\n",
    "\n",
    "ax[0].set_ylabel('Initial state value')\n",
    "ax[0].set_title('Argmax-None')\n",
    "ax[1].set_title('Softmax-Argmax')\n",
    "ax[2].set_title('Softmax-Softmax')\n",
    "\n",
    "ax[0].legend()\n",
    "plt.show()"
   ]
  },
  {
   "cell_type": "code",
   "execution_count": 203,
   "metadata": {},
   "outputs": [
    {
     "data": {
      "image/png": "[encoded data removed]",
      "text/plain": [
       "<Figure size 640x480 with 1 Axes>"
      ]
     },
     "metadata": {},
     "output_type": "display_data"
    }
   ],
   "source": [
    "# initial_policy_values_argmax_none_padded = np.pad(initial_policy_values_argmax_none, (0,1001-len(initial_policy_values_argmax_none)), \"edge\")\n",
    "plt.plot(np.array(initial_policy_values_argmax_none), c = \"b\", label = \"Argmax-None\")\n",
    "plt.plot(np.array(initial_policy_values_softmax_argmax), c = \"g\", label = \"Softmax-Argmax\")\n",
    "plt.plot(np.array(initial_policy_values_softmax_softmax),c  = \"r\", label = \"Softmax-Softmax\")\n",
    "plt.legend()\n",
    "plt.show()"
   ]
  },
  {
   "cell_type": "code",
   "execution_count": 204,
   "metadata": {},
   "outputs": [],
   "source": [
    "# Optimistic (or modified/approximate) policy iteration \"Policy based value iteration\"\n",
    "# Change Q table to NN"
   ]
  },
  {
   "cell_type": "code",
   "execution_count": null,
   "metadata": {},
   "outputs": [],
   "source": []
  }
 ],
 "metadata": {
  "kernelspec": {
   "display_name": "Python 3 (ipykernel)",
   "language": "python",
   "name": "python3"
  },
  "language_info": {
   "codemirror_mode": {
    "name": "ipython",
    "version": 3
   },
   "file_extension": ".py",
   "mimetype": "text/x-python",
   "name": "python",
   "nbconvert_exporter": "python",
   "pygments_lexer": "ipython3",
   "version": "3.11.7"
  }
 },
 "nbformat": 4,
 "nbformat_minor": 4
}
